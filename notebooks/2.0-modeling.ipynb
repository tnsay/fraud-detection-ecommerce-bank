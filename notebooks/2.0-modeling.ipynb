{
 "cells": [
  {
   "cell_type": "code",
   "execution_count": 11,
   "id": "e6772601",
   "metadata": {},
   "outputs": [],
   "source": [
    "import pandas as pd\n",
    "import numpy as np\n",
    "from sklearn.model_selection import train_test_split\n",
    "from sklearn.linear_model import LogisticRegression\n",
    "from xgboost import XGBClassifier\n",
    "from sklearn.metrics import precision_recall_curve, auc, f1_score, confusion_matrix, classification_report\n",
    "import matplotlib.pyplot as plt\n",
    "import seaborn as sns\n",
    "\n",
    "# Function to load data and prepare X, y\n",
    "filepath = \"../data/cleaned\"\n",
    "def load_data(filepath, target_col):\n",
    "    df = pd.read_csv(filepath)\n",
    "    X = df.drop(columns=[target_col])\n",
    "    y = df[target_col]\n",
    "    return X, y\n",
    "\n",
    "# Load datasets\n",
    "X_credit, y_credit = load_data('../data/cleaned/cleaned_creditcard_df.csv', 'Class')\n",
    "X_fraud, y_fraud = load_data('../data/cleaned/cleaned_fraud_df.csv', 'class')\n",
    "\n",
    "# Train-test split function\n",
    "def split_data(X, y):\n",
    "    return train_test_split(X, y, stratify=y, test_size=0.2, random_state=42)\n",
    "\n",
    "# Split both datasets\n",
    "X_train_credit, X_test_credit, y_train_credit, y_test_credit = split_data(X_credit, y_credit)\n",
    "X_train_fraud, X_test_fraud, y_train_fraud, y_test_fraud = split_data(X_fraud, y_fraud)\n",
    "\n",
    "# Initialize models\n",
    "log_reg = LogisticRegression(max_iter=1000, class_weight='balanced', random_state=42)\n",
    "xgb = XGBClassifier(use_label_encoder=False, eval_metric='logloss', random_state=42)\n"
   ]
  },
  {
   "cell_type": "code",
   "execution_count": 12,
   "id": "a715d0bf",
   "metadata": {},
   "outputs": [
    {
     "name": "stdout",
     "output_type": "stream",
     "text": [
      "Remaining object or datetime columns in X_train_fraud:\n",
      "['signup_time', 'purchase_time', 'device_id', 'source', 'browser', 'sex', 'country']\n"
     ]
    }
   ],
   "source": [
    "print(\"Remaining object or datetime columns in X_train_fraud:\")\n",
    "print(X_train_fraud.select_dtypes(include=['object', 'datetime']).columns.tolist())"
   ]
  },
  {
   "cell_type": "code",
   "execution_count": null,
   "id": "f0b1e073",
   "metadata": {},
   "outputs": [],
   "source": [
    "# Helper function to train and evaluate models\n",
    "def train_evaluate_model(X_train, y_train, X_test, y_test, model, dataset_name, model_name):\n",
    "    model.fit(X_train, y_train)\n",
    "    y_pred = model.predict(X_test)\n",
    "    y_pred_prob = model.predict_proba(X_test)[:,1]\n",
    "\n",
    "    precision, recall, _ = precision_recall_curve(y_test, y_pred_prob)\n",
    "    auc_pr = auc(recall, precision)\n",
    "    f1 = f1_score(y_test, y_pred)\n",
    "    cm = confusion_matrix(y_test, y_pred)\n",
    "\n",
    "    print(f\"--- {dataset_name} - {model_name} ---\")\n",
    "    print(f\"AUC-PR: {auc_pr:.4f}\")\n",
    "    print(f\"F1 Score: {f1:.4f}\")\n",
    "    print(\"Confusion Matrix:\")\n",
    "    print(cm)\n",
    "    print(\"Classification Report:\")\n",
    "    print(classification_report(y_test, y_pred))\n",
    "    print(\"\\n\")\n",
    "\n",
    "    # Plot PR curve\n",
    "    plt.figure(figsize=(6,4))\n",
    "    plt.plot(recall, precision, label=f'AUC-PR = {auc_pr:.4f}')\n",
    "    plt.xlabel('Recall')\n",
    "    plt.ylabel('Precision')\n",
    "    plt.title(f'Precision-Recall Curve: {dataset_name} - {model_name}')\n",
    "    plt.legend()\n",
    "    plt.show()\n",
    "\n",
    "    return auc_pr, f1, cm\n",
    "\n",
    "# Train and evaluate on Credit Card Fraud dataset\n",
    "print(\"Evaluating models on Credit Card Fraud dataset\\n\")\n",
    "log_auc_pr_credit, log_f1_credit, log_cm_credit = train_evaluate_model(\n",
    "    X_train_credit, y_train_credit, X_test_credit, y_test_credit, log_reg, \"Credit Card\", \"Logistic Regression\"\n",
    ")\n",
    "\n",
    "xgb_auc_pr_credit, xgb_f1_credit, xgb_cm_credit = train_evaluate_model(\n",
    "    X_train_credit, y_train_credit, X_test_credit, y_test_credit, xgb, \"Credit Card\", \"XGBoost\"\n",
    ")\n",
    "\n",
    "# Train and evaluate on Ecommerce Fraud dataset\n",
    "print(\"Evaluating models on Ecommerce Fraud dataset\\n\")\n",
    "log_auc_pr_fraud, log_f1_fraud, log_cm_fraud = train_evaluate_model(\n",
    "    X_train_fraud, y_train_fraud, X_test_fraud, y_test_fraud, log_reg, \"Ecommerce Fraud\", \"Logistic Regression\"\n",
    ")\n",
    "\n",
    "xgb_auc_pr_fraud, xgb_f1_fraud, xgb_cm_fraud = train_evaluate_model(\n",
    "    X_train_fraud, y_train_fraud, X_test_fraud, y_test_fraud, xgb, \"Ecommerce Fraud\", \"XGBoost\"\n",
    ")\n",
    "\n",
    "# Summary table\n",
    "summary_df = pd.DataFrame({\n",
    "    'Dataset': ['Credit Card', 'Credit Card', 'Ecommerce Fraud', 'Ecommerce Fraud'],\n",
    "    'Model': ['Logistic Regression', 'XGBoost', 'Logistic Regression', 'XGBoost'],\n",
    "    'AUC-PR': [log_auc_pr_credit, xgb_auc_pr_credit, log_auc_pr_fraud, xgb_auc_pr_fraud],\n",
    "    'F1-Score': [log_f1_credit, xgb_f1_credit, log_f1_fraud, xgb_f1_fraud]\n",
    "})\n",
    "\n",
    "print(\"Summary of Model Performance:\")\n",
    "print(summary_df)\n",
    "\n",
    "# justification after comparing the results.\n"
   ]
  }
 ],
 "metadata": {
  "kernelspec": {
   "display_name": "venv",
   "language": "python",
   "name": "python3"
  },
  "language_info": {
   "codemirror_mode": {
    "name": "ipython",
    "version": 3
   },
   "file_extension": ".py",
   "mimetype": "text/x-python",
   "name": "python",
   "nbconvert_exporter": "python",
   "pygments_lexer": "ipython3",
   "version": "3.13.5"
  }
 },
 "nbformat": 4,
 "nbformat_minor": 5
}
