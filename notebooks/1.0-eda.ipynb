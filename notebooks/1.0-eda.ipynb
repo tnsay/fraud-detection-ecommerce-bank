{
 "cells": [
  {
   "cell_type": "code",
   "execution_count": null,
   "id": "bcd3309c",
   "metadata": {},
   "outputs": [],
   "source": [
    "import pandas as pd\n",
    "\n",
    "# Load datasets\n",
    "fraud_df   = pd.read_csv(\"../data/raw/Fraud_Data.csv\",\n",
    "                         parse_dates=['signup_time', 'purchase_time'],\n",
    "                         dtype={'user_id': 'int64',\n",
    "                                'device_id': 'string',\n",
    "                                'source': 'string',\n",
    "                                'browser': 'string',\n",
    "                                'sex': 'category',    # saves memory\n",
    "                                'age': 'Int64',       # allows NA\n",
    "                                'ip_address': 'float'})   # will coerce to int later\n",
    "\n",
    "credit_df  = pd.read_csv(\"../data/raw/creditcard.csv\")\n",
    "ip_df      = pd.read_csv(\"../data/raw/IpAddress_to_Country.csv\",\n",
    "                         dtype={'lower_bound_ip_address': 'int64',\n",
    "                                'upper_bound_ip_address': 'int64',\n",
    "                                'country': 'string'})\n",
    "\n",
    "\n",
    "# Check for missing values\n",
    "print(fraud_df.isnull().sum())\n",
    "print(ip_df.isnull().sum())\n",
    "print(credit_df.isnull().sum())\n"
   ]
  },
  {
   "cell_type": "code",
   "execution_count": 45,
   "id": "14048773",
   "metadata": {},
   "outputs": [
    {
     "name": "stdout",
     "output_type": "stream",
     "text": [
      "False\n"
     ]
    }
   ],
   "source": [
    "# check \n",
    "print(fraud_df['age'].isnull().any())  "
   ]
  },
  {
   "cell_type": "code",
   "execution_count": 46,
   "id": "7c878d36",
   "metadata": {},
   "outputs": [],
   "source": [
    "# Remove duplicates\n",
    "ip_df.drop_duplicates(inplace=True)\n",
    "fraud_df.drop_duplicates(inplace=True)\n",
    "credit_df.drop_duplicates(inplace=True)"
   ]
  },
  {
   "cell_type": "code",
   "execution_count": null,
   "id": "c900048b",
   "metadata": {},
   "outputs": [],
   "source": [
    "# Convert time columns to datetime\n",
    "fraud_df['signup_time'] = pd.to_datetime(fraud_df['signup_time'])\n",
    "fraud_df['purchase_time'] = pd.to_datetime(fraud_df['purchase_time'])\n",
    "\n",
    "# Check data types\n",
    "print(fraud_df.dtypes)"
   ]
  },
  {
   "cell_type": "code",
   "execution_count": null,
   "id": "c0f3cda2",
   "metadata": {},
   "outputs": [],
   "source": [
    "import seaborn as sns\n",
    "import matplotlib.pyplot as plt\n",
    "\n",
    "age_counts = fraud_df.groupby('age')['user_id'].count()\n",
    "age_counts.plot(kind='bar', figsize=(12, 5))\n",
    "plt.title(\"Number of Users by Age\")\n",
    "plt.xlabel(\"Age\")\n",
    "plt.ylabel(\"Number of Users\")\n",
    "plt.show()\n",
    "\n",
    "sns.histplot(fraud_df['age'], kde=True)\n",
    "plt.title(\"Age Distribution\")\n",
    "plt.show()\n",
    "\n",
    "fraud_df['class'].replace({0: 'Legit', 1: 'Fraud'}).value_counts().plot(kind='bar')\n",
    "plt.title(\"Transaction Class Distribution\")\n",
    "plt.ylabel(\"Count\")\n",
    "plt.xlabel(\"Transaction Type\")\n",
    "plt.show()\n"
   ]
  },
  {
   "cell_type": "code",
   "execution_count": null,
   "id": "39ed5158",
   "metadata": {},
   "outputs": [],
   "source": [
    "# Boxplot: Purchase Value by Fraud Class with readable labels\n",
    "sns.boxplot(\n",
    "    x=fraud_df['class'].map({0: 'Legit', 1: 'Fraudulent'}),\n",
    "    y=fraud_df['purchase_value']\n",
    ")\n",
    "plt.title(\"Purchase Value by Fraud Class\")\n",
    "plt.xlabel(\"Transaction Class\")\n",
    "plt.ylabel(\"Purchase Value\")\n",
    "plt.show()\n",
    "\n",
    "# Countplot: Source by Class with readable labels\n",
    "sns.countplot(\n",
    "    x='source',\n",
    "    hue=fraud_df['class'].map({0: 'Legit', 1: 'Fraudulent'}),\n",
    "    data=fraud_df\n",
    ")\n",
    "plt.title(\"Transaction Source by Class\")\n",
    "plt.xlabel(\"Source\")\n",
    "plt.ylabel(\"Count\")\n",
    "plt.legend(title='Class')\n",
    "plt.show()\n",
    "\n",
    "\n",
    "# sns.boxplot(x='class', y='purchase_value', data=fraud_df)\n",
    "# plt.title(\"Purchase Value by Fraud Class\")\n",
    "# plt.show()\n",
    "\n",
    "# sns.countplot(x='source', hue='class', data=fraud_df)\n",
    "# plt.title(\"Source by Class\")\n",
    "# plt.show()"
   ]
  },
  {
   "cell_type": "code",
   "execution_count": 50,
   "id": "6fe3bb29",
   "metadata": {},
   "outputs": [
    {
     "data": {
      "text/plain": [
       "0    7.327584e+08\n",
       "1    3.503114e+08\n",
       "2    2.621474e+09\n",
       "3    3.840542e+09\n",
       "4    4.155831e+08\n",
       "5    2.809315e+09\n",
       "6    3.987484e+09\n",
       "7    1.692459e+09\n",
       "8    3.719094e+09\n",
       "9    3.416747e+08\n",
       "Name: ip_address, dtype: float64"
      ]
     },
     "execution_count": 50,
     "metadata": {},
     "output_type": "execute_result"
    }
   ],
   "source": [
    "fraud_df['ip_address'].head(10)"
   ]
  },
  {
   "cell_type": "code",
   "execution_count": 53,
   "id": "0239802d",
   "metadata": {},
   "outputs": [],
   "source": [
    "import ipaddress\n",
    "\n",
    "# Function to map IP to country using the ranges in ip_df\n",
    "def map_country(ip):\n",
    "    row = ip_df[(ip_df['lower_bound_ip_address'] <= ip) & (ip_df['upper_bound_ip_address'] >= ip)]\n",
    "    return row['country'].values[0] if not row.empty else 'Unknown'\n",
    "\n",
    "# Apply to fraud_df\n",
    "fraud_df = fraud_df.rename(columns={'ip_address': 'ip_address_int'})\n",
    "fraud_df['country'] = fraud_df['ip_address_int'].apply(map_country)"
   ]
  },
  {
   "cell_type": "code",
   "execution_count": 54,
   "id": "4452a8be",
   "metadata": {},
   "outputs": [
    {
     "name": "stdout",
     "output_type": "stream",
     "text": [
      "country\n",
      "United States        58049\n",
      "Unknown              21966\n",
      "China                12038\n",
      "Japan                 7306\n",
      "United Kingdom        4490\n",
      "Korea Republic of     4162\n",
      "Germany               3646\n",
      "France                3161\n",
      "Canada                2975\n",
      "Brazil                2961\n",
      "Name: count, dtype: int64\n",
      "['user_id', 'signup_time', 'purchase_time', 'purchase_value', 'device_id', 'source', 'browser', 'sex', 'age', 'ip_address_int', 'class', 'country']\n"
     ]
    }
   ],
   "source": [
    "print(fraud_df['country'].value_counts().head(10))\n",
    "print(fraud_df.columns.tolist())\n"
   ]
  },
  {
   "cell_type": "code",
   "execution_count": 41,
   "id": "bf9eed44",
   "metadata": {},
   "outputs": [],
   "source": [
    "# Transactions per user\n",
    "user_tx_count = fraud_df.groupby('user_id').size().reset_index(name='transaction_count')\n",
    "fraud_df = fraud_df.merge(user_tx_count, on='user_id', how='left')"
   ]
  },
  {
   "cell_type": "code",
   "execution_count": 58,
   "id": "a21e8881",
   "metadata": {},
   "outputs": [
    {
     "name": "stdout",
     "output_type": "stream",
     "text": [
      "   user_id         signup_time       purchase_time  purchase_value  \\\n",
      "0    22058 2015-02-24 22:55:49 2015-04-18 02:47:11              34   \n",
      "1   333320 2015-06-07 20:39:50 2015-06-08 01:38:54              16   \n",
      "2     1359 2015-01-01 18:52:44 2015-01-01 18:52:45              15   \n",
      "3   150084 2015-04-28 21:13:25 2015-05-04 13:54:50              44   \n",
      "4   221365 2015-07-21 07:09:52 2015-09-09 18:40:53              39   \n",
      "\n",
      "       device_id source browser sex  age  ip_address_int  class  \\\n",
      "0  QVPSPJUOCKZAR    SEO  Chrome   M   39    7.327584e+08      0   \n",
      "1  EOGFQPIZPYXFZ    Ads  Chrome   F   53    3.503114e+08      0   \n",
      "2  YSSKYOSJHPPLJ    SEO   Opera   M   53    2.621474e+09      1   \n",
      "3  ATGTXKYKUDUQN    SEO  Safari   M   41    3.840542e+09      0   \n",
      "4  NAUITBZFJKHWW    Ads  Safari   M   45    4.155831e+08      0   \n",
      "\n",
      "         country  hour_of_day  day_of_week  time_since_signup  \n",
      "0          Japan            2            5        1251.856111  \n",
      "1  United States            1            0           4.984444  \n",
      "2  United States           18            3           0.000278  \n",
      "3        Unknown           13            0         136.690278  \n",
      "4  United States           18            2        1211.516944  \n",
      "['user_id', 'signup_time', 'purchase_time', 'purchase_value', 'device_id', 'source', 'browser', 'sex', 'age', 'ip_address_int', 'class', 'country', 'hour_of_day', 'day_of_week', 'time_since_signup']\n"
     ]
    }
   ],
   "source": [
    "# time based feature\n",
    "fraud_df['hour_of_day'] = fraud_df['purchase_time'].dt.hour\n",
    "fraud_df['day_of_week'] = fraud_df['purchase_time'].dt.dayofweek\n",
    "fraud_df['time_since_signup'] = (fraud_df['purchase_time'] - fraud_df['signup_time']).dt.total_seconds() / 3600  # in hours\n",
    "print(fraud_df.head())\n",
    "print(fraud_df.columns.tolist())"
   ]
  },
  {
   "cell_type": "code",
   "execution_count": 59,
   "id": "d17d3013",
   "metadata": {},
   "outputs": [
    {
     "name": "stdout",
     "output_type": "stream",
     "text": [
      "Non-numeric columns: ['device_id', 'source', 'browser', 'country']\n",
      "Sample values:\n",
      "            device_id  source  browser  country\n",
      "50481   XVRUVPTHWQASG     Ads   Chrome    China\n",
      "95673   YEIHKJKVXOTOG  Direct       IE  Unknown\n",
      "139063  TUIGQGWCACDLN     Ads       IE  Unknown\n",
      "28313   DSHXPRGHOCLEK  Direct  FireFox    China\n",
      "123477  NYFGHBQGURDIN     SEO   Safari  Unknown\n"
     ]
    }
   ],
   "source": [
    "from sklearn.model_selection import train_test_split\n",
    "\n",
    "fraud_cleaned = fraud_df.drop(['signup_time', 'purchase_time', 'ip_address_int'], axis=1)\n",
    "\n",
    "X = fraud_cleaned.drop(['class'], axis=1)\n",
    "y = fraud_cleaned['class']\n",
    "X_train, X_test, y_train, y_test = train_test_split(X, y, stratify=y, test_size=0.2, random_state=42)\n",
    "\n",
    "non_numeric = X_train.select_dtypes(include=['object', 'string'])\n",
    "print(\"Non-numeric columns:\", non_numeric.columns.tolist())\n",
    "print(\"Sample values:\")\n",
    "print(non_numeric.head())"
   ]
  },
  {
   "cell_type": "code",
   "execution_count": 70,
   "id": "1985eb25",
   "metadata": {},
   "outputs": [
    {
     "name": "stdout",
     "output_type": "stream",
     "text": [
      "Non-numeric columns (should be empty): Index([], dtype='object')\n",
      "Remaining non-numeric columns: []\n"
     ]
    }
   ],
   "source": [
    "import pandas as pd\n",
    "from sklearn.model_selection import train_test_split\n",
    "from sklearn.preprocessing import StandardScaler\n",
    "from imblearn.over_sampling import SMOTE\n",
    "from sklearn.preprocessing import LabelEncoder\n",
    "import numpy as np\n",
    "\n",
    "\n",
    "# 1. Drop columns we don't need or already processed elsewhere\n",
    "fraud_cleaned = fraud_df.drop(['signup_time', 'purchase_time', 'ip_address_int'], axis=1)\n",
    "\n",
    "# 2. Frequency encode high-cardinality 'device_id'\n",
    "device_freq = fraud_cleaned['device_id'].value_counts().to_dict()\n",
    "fraud_cleaned['device_id_freq'] = fraud_cleaned['device_id'].map(device_freq)\n",
    "fraud_cleaned.drop('device_id', axis=1, inplace=True)\n",
    "\n",
    "# 3. One-hot encode low-cardinality categorical columns\n",
    "fraud_cleaned = pd.get_dummies(fraud_cleaned, columns=['browser', 'source', 'country'], drop_first=True)\n",
    "\n",
    "# 4. Final check for non-numeric columns\n",
    "non_numeric_cols = fraud_cleaned.select_dtypes(include=['object', 'string']).columns\n",
    "print(\"Non-numeric columns (should be empty):\", non_numeric_cols)\n",
    "\n",
    "# 5. Separate features and target\n",
    "X = fraud_cleaned.drop('class', axis=1)\n",
    "y = fraud_cleaned['class']\n",
    "\n",
    "# 6. Train-test split\n",
    "X_train, X_test, y_train, y_test = train_test_split(X, y, stratify=y, test_size=0.2, random_state=42)\n",
    "\n",
    "\n",
    "label_encoders = {}\n",
    "for col in X_train.select_dtypes(include=['object', 'category']).columns:\n",
    "    le = LabelEncoder()\n",
    "    X_train[col] = le.fit_transform(X_train[col])\n",
    "    X_test[col] = le.transform(X_test[col])\n",
    "    label_encoders[col] = le\n",
    "\n",
    "X_train = X_train.astype(np.float32)  \n",
    "\n",
    "\n",
    "# 7. Apply SMOTE\n",
    "sm = SMOTE(random_state=42)\n",
    "X_resampled, y_resampled = sm.fit_resample(X_train, y_train)\n",
    "\n",
    "print(\"Remaining non-numeric columns:\", X_train.select_dtypes(include=['object', 'category']).columns.tolist())\n",
    "\n",
    "\n",
    "# 8. Scale features\n",
    "scaler = StandardScaler()\n",
    "X_resampled_scaled = scaler.fit_transform(X_resampled)\n",
    "X_test_scaled = scaler.transform(X_test)\n",
    "\n"
   ]
  },
  {
   "cell_type": "code",
   "execution_count": null,
   "id": "40564827",
   "metadata": {},
   "outputs": [],
   "source": [
    "plt.figure(figsize=(14, 10))\n",
    "\n",
    "# Select only numeric columns before correlation\n",
    "numeric_df = fraud_df.select_dtypes(include=['number'])\n",
    "\n",
    "corr = numeric_df.corr()\n",
    "\n",
    "sns.heatmap(corr, cmap='coolwarm', annot=False, fmt=\".2f\", linewidths=0.5)\n",
    "plt.title(\"Correlation Heatmap for Ecommerce Fraud Dataset\")\n",
    "plt.show()\n"
   ]
  },
  {
   "cell_type": "code",
   "execution_count": 74,
   "id": "1aacf5b7",
   "metadata": {},
   "outputs": [],
   "source": [
    "# Save cleaned ecommerce fraud data\n",
    "fraud_df.to_csv('../data/cleaned/cleaned_fraud_df.csv', index=False)\n",
    "\n",
    "# Save cleaned credit card fraud data\n",
    "credit_df.to_csv('../data/cleaned/cleaned_creditcard_df.csv', index=False)"
   ]
  }
 ],
 "metadata": {
  "kernelspec": {
   "display_name": "venv",
   "language": "python",
   "name": "python3"
  },
  "language_info": {
   "codemirror_mode": {
    "name": "ipython",
    "version": 3
   },
   "file_extension": ".py",
   "mimetype": "text/x-python",
   "name": "python",
   "nbconvert_exporter": "python",
   "pygments_lexer": "ipython3",
   "version": "3.13.5"
  }
 },
 "nbformat": 4,
 "nbformat_minor": 5
}
